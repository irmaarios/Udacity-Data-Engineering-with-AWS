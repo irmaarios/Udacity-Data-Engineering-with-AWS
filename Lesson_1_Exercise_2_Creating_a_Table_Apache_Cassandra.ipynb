{
 "cells": [
  {
   "cell_type": "markdown",
   "id": "f33d114e",
   "metadata": {},
   "source": [
    "# <span style='color:DarkMagenta'> Lesson 1 Exercise 2: Creating a Table with Apache Cassandra </span>\n"
   ]
  },
  {
   "cell_type": "markdown",
   "id": "707575a8",
   "metadata": {},
   "source": [
    "### Walk through the basics of creating a table in Apache Cassandra\n",
    "- inserting rows of data\n",
    "- doing simple CQL query to validate the information\n",
    "\n",
    "### <span style='color:Crimson'> Note: I wasn't able to install Cassandra locally so that's why there are errors when running the cells! </span>\n"
   ]
  },
  {
   "cell_type": "code",
   "execution_count": 2,
   "id": "91b341d8",
   "metadata": {},
   "outputs": [],
   "source": [
    "# use Python module for working with Cassandra database --> cassandra-driver\n",
    "# this you would first install locally\n",
    "\n",
    "# pip install cassandra-driver\n",
    "\n",
    "# import apache cassandra python package\n",
    "import cassandra"
   ]
  },
  {
   "cell_type": "code",
   "execution_count": 11,
   "id": "da483983",
   "metadata": {},
   "outputs": [],
   "source": [
    "# First, create a connection to the database\n",
    "# this connects to our local instance of apache cassandra \n",
    "# this connection will reach out to the database and insure we have the correct privilages to connect to this database"
   ]
  },
  {
   "cell_type": "code",
   "execution_count": 12,
   "id": "9469d04b",
   "metadata": {},
   "outputs": [
    {
     "name": "stdout",
     "output_type": "stream",
     "text": [
      "('Unable to connect to any servers', {'127.0.0.1:9042': ConnectionRefusedError(10061, \"Tried connecting to [('127.0.0.1', 9042)]. Last error: No connection could be made because the target machine actively refused it\")})\n"
     ]
    }
   ],
   "source": [
    "# Interaction with Cassandra database is done through Cluster object\n",
    "\n",
    "from cassandra.cluster import Cluster # Cassandra.cluster module defines Cluster class\n",
    "\n",
    "try:\n",
    "    # We first need to declare Cluster object\n",
    "    cluster = Cluster(['127.0.0.1']) # to connect to locally installed apache cassandra instance\n",
    "    session = cluster.connect() # then we need to connect and that will create the session to execute queries\n",
    "    \n",
    "except Exception as e:\n",
    "    print(e)\n",
    "    \n",
    "# get an error because I was unable to install cassandra in windows 10\n",
    "# but if it was installed correctly, then it would run and connect to the local instance"
   ]
  },
  {
   "cell_type": "code",
   "execution_count": 13,
   "id": "40ce8233",
   "metadata": {},
   "outputs": [
    {
     "name": "stdout",
     "output_type": "stream",
     "text": [
      "name 'session' is not defined\n"
     ]
    }
   ],
   "source": [
    "# to test the connection run a simple query\n",
    "# note: do not do this in actual nosql tables - would be too many rows to query\n",
    "\n",
    "test_query = \"select * from music_library\"\n",
    "\n",
    "try:\n",
    "    session.execute(test_query)\n",
    "except Exception as e:\n",
    "    print(e)\n"
   ]
  },
  {
   "cell_type": "code",
   "execution_count": 14,
   "id": "8b15ccbf",
   "metadata": {},
   "outputs": [
    {
     "name": "stdout",
     "output_type": "stream",
     "text": [
      "name 'session' is not defined\n"
     ]
    }
   ],
   "source": [
    "# Next, need to create a keyspace\n",
    "# keyspace is like the database made up of one or more tables\n",
    "\n",
    "# for now, ignore the replication strategy and factor information \n",
    "# will go into more detail in later session\n",
    "\n",
    "# on a one node local instance this will be the strategy and replication factor \n",
    "# replication_factor == how many times your data is copied \n",
    "\n",
    "try:\n",
    "    session.execute(\"\"\"\n",
    "    CREATE KEYSPACE IF NOT EXISTS udacity\n",
    "    WITH REPLICATION =\n",
    "        {'class' : 'SimpleStrategy', 'replication_factor' : 1}\"\"\"\n",
    "    ) \n",
    "    \n",
    "except Exception as e:\n",
    "    print(e)\n",
    "\n"
   ]
  },
  {
   "cell_type": "code",
   "execution_count": 15,
   "id": "8a14963c",
   "metadata": {},
   "outputs": [],
   "source": [
    "# once keyspace is created, you can connect to it"
   ]
  },
  {
   "cell_type": "code",
   "execution_count": 16,
   "id": "b9156a34",
   "metadata": {},
   "outputs": [
    {
     "name": "stdout",
     "output_type": "stream",
     "text": [
      "name 'session' is not defined\n"
     ]
    }
   ],
   "source": [
    "# connect to keyspace\n",
    "try:\n",
    "    session.set_keyspace('udacity')\n",
    "except Exception as e:\n",
    "    print(e)\n",
    "    "
   ]
  },
  {
   "cell_type": "code",
   "execution_count": null,
   "id": "b801c1f0",
   "metadata": {},
   "outputs": [],
   "source": [
    "# now that the keyspace is created and you're connected\n",
    "# we can create tables"
   ]
  },
  {
   "cell_type": "markdown",
   "id": "4a1b3d5c",
   "metadata": {},
   "source": [
    "### SCENARIO:\n",
    "\n",
    "We would like to start creating a music library of albums. Each album has album name, artist name, and year\n",
    "\n",
    "**BUT**\n",
    "\n",
    "Apache cassandra is a nosql database. This means we can't model our data and create our table without more information.\n",
    "\n",
    "**THE FIRST THING TO ASK IS:**\n",
    "\n",
    "*what queries will be performed on this data?*\n",
    "\n",
    "**In this case, I woud like to be able to get every album that was released in a particular year**\n",
    "\n",
    "`select * from music_library where year = 1970`\n",
    "\n",
    "Because of this, we need to be able to do a `WHERE` on `YEAR`\n",
    "- `YEAR` will become my partition key, and `artist name` will be the clustering column to make each primary key unique\n",
    "\n",
    "***Remember: there are no duplicates in cassandra - assume an artist doesn't make more than one album a year***\n",
    "\n",
    "### So then:\n",
    "- table name: music_library\n",
    "- column 1: album name\n",
    "- column 2: artist name\n",
    "- column 3: year\n",
    "- PRIMARY KEY(year, artist name) --> partition by year, and include artist name to make it unique\n",
    "\n",
    "### Now to translate this information into a create table statement\n"
   ]
  },
  {
   "cell_type": "code",
   "execution_count": 10,
   "id": "8d5f38ae",
   "metadata": {},
   "outputs": [
    {
     "name": "stdout",
     "output_type": "stream",
     "text": [
      "CREATE TABLE IF NOT EXISTS music_library (year int, artist_name int, album_name text, PRIMARY KEY (year, artist_name))\n",
      "name 'session' is not defined\n"
     ]
    }
   ],
   "source": [
    "# create table\n",
    "create_query = \"CREATE TABLE IF NOT EXISTS music_library \"\n",
    "create_query = create_query + \"(year int, artist_name text, album_name text, PRIMARY KEY (year, artist_name))\"\n",
    "\n",
    "print(create_query)\n",
    "\n",
    "# run this query\n",
    "try:\n",
    "    session.execute(create_query)\n",
    "except Exception as e:\n",
    "    print(e)\n"
   ]
  },
  {
   "cell_type": "code",
   "execution_count": null,
   "id": "73ecf133",
   "metadata": {},
   "outputs": [],
   "source": [
    "# check that the table was created\n",
    "# run a count query (should return 0 because there are no rows in the table)\n",
    "# *** only do this when we know the table would be empty, otherwise this is not a query to run in nosql tables \n",
    "# in some versions of cassandra, it might not return 0 and instead return an error \n",
    "\n",
    "count_query = \"select count(*) from music_library\"\n",
    "count = session.execute(count_query)\n",
    "\n",
    "print(count.one())"
   ]
  },
  {
   "cell_type": "code",
   "execution_count": null,
   "id": "4d01ac48",
   "metadata": {},
   "outputs": [],
   "source": [
    "# now we can insert rows"
   ]
  },
  {
   "cell_type": "code",
   "execution_count": null,
   "id": "16aa730e",
   "metadata": {},
   "outputs": [],
   "source": [
    "# insert query\n",
    "insert_query = \"INSERT INTO music_library (year, artist_name, album_name)\"\n",
    "insert_query = insert_query + \" VALUES (%s, %s, %s)\"\n",
    "\n",
    "try:\n",
    "    session.execute(insert_query, (1970, \"The Beatles\", \"Let it Be\"))\n",
    "except Exception as e:\n",
    "    print(e)\n",
    "    \n",
    "try:\n",
    "    session.execute(insert_query, (1965, \"The Beatles\", \"Rubber Soul\"))\n",
    "except Exception as e:\n",
    "    print(e)\n",
    "    \n",
    "# now we should have 2 rows in the table\n",
    "# because apache cassandra does not allow duplicates, there will only be 2 records no matter how many times we rerun the queries above"
   ]
  },
  {
   "cell_type": "code",
   "execution_count": 17,
   "id": "4f702238",
   "metadata": {},
   "outputs": [
    {
     "ename": "NameError",
     "evalue": "name 'session' is not defined",
     "output_type": "error",
     "traceback": [
      "\u001b[1;31m---------------------------------------------------------------------------\u001b[0m",
      "\u001b[1;31mNameError\u001b[0m                                 Traceback (most recent call last)",
      "Cell \u001b[1;32mIn[17], line 9\u001b[0m\n\u001b[0;32m      1\u001b[0m \u001b[38;5;66;03m# validate that data was inserted\u001b[39;00m\n\u001b[0;32m      2\u001b[0m \n\u001b[0;32m      3\u001b[0m \u001b[38;5;66;03m# you can run select * from music_library \u001b[39;00m\n\u001b[0;32m      4\u001b[0m \u001b[38;5;66;03m# *** only run this query because we know the table only has 2 rows\u001b[39;00m\n\u001b[0;32m      5\u001b[0m \u001b[38;5;66;03m# do not run for actual tables with a lot of data\u001b[39;00m\n\u001b[0;32m      7\u001b[0m select_query \u001b[38;5;241m=\u001b[39m \u001b[38;5;124m\"\u001b[39m\u001b[38;5;124mselect * from music_library\u001b[39m\u001b[38;5;124m\"\u001b[39m\n\u001b[1;32m----> 9\u001b[0m rows \u001b[38;5;241m=\u001b[39m \u001b[43msession\u001b[49m\u001b[38;5;241m.\u001b[39mexecute(select_query)\n\u001b[0;32m     11\u001b[0m \u001b[38;5;28;01mfor\u001b[39;00m row \u001b[38;5;129;01min\u001b[39;00m rows:\n\u001b[0;32m     12\u001b[0m     \u001b[38;5;28mprint\u001b[39m (row\u001b[38;5;241m.\u001b[39myear, row\u001b[38;5;241m.\u001b[39malbum_name, row\u001b[38;5;241m.\u001b[39martist_name)\n",
      "\u001b[1;31mNameError\u001b[0m: name 'session' is not defined"
     ]
    }
   ],
   "source": [
    "# validate that data was inserted\n",
    "\n",
    "# you can run select * from music_library \n",
    "# *** only run this query because we know the table only has 2 rows\n",
    "# do not run for actual tables with a lot of data\n",
    "\n",
    "select_query = \"select * from music_library\"\n",
    "\n",
    "rows = session.execute(select_query)\n",
    "\n",
    "for row in rows:\n",
    "    print (row.year, row.album_name, row.artist_name)\n",
    "\n",
    "# if you were running the query in the cqlsh (shell program to run cql queries), for loop would NOT be required to print\n"
   ]
  },
  {
   "cell_type": "markdown",
   "id": "5e66bc68",
   "metadata": {},
   "source": [
    "### Validate the data model with our original query\n",
    "\n",
    "### `select * from music_library where year = 1970`"
   ]
  },
  {
   "cell_type": "code",
   "execution_count": null,
   "id": "f7e99906",
   "metadata": {},
   "outputs": [],
   "source": [
    "test_query = \"select * from music_library where year = 1970\"\n",
    "\n",
    "rows = session.execute(test_query)\n",
    "for row in rows:\n",
    "    print(row.year, row.album_name, row.artist_name)\n"
   ]
  },
  {
   "cell_type": "code",
   "execution_count": null,
   "id": "02756b7a",
   "metadata": {},
   "outputs": [],
   "source": [
    "# to end you can drop the table\n",
    "\n",
    "# to drop the table\n",
    "drop_query = \"drop table music_library\"\n",
    "session.execute(drop_query)"
   ]
  },
  {
   "cell_type": "code",
   "execution_count": null,
   "id": "bba87a5d",
   "metadata": {},
   "outputs": [],
   "source": [
    "# finally, close the session and cluster connection"
   ]
  },
  {
   "cell_type": "code",
   "execution_count": null,
   "id": "e0008319",
   "metadata": {},
   "outputs": [],
   "source": [
    "session.shutdown()\n",
    "cluster.shutdown()"
   ]
  },
  {
   "cell_type": "code",
   "execution_count": null,
   "id": "f5fddad3",
   "metadata": {},
   "outputs": [],
   "source": []
  },
  {
   "cell_type": "code",
   "execution_count": null,
   "id": "969a9e1b",
   "metadata": {},
   "outputs": [],
   "source": []
  },
  {
   "cell_type": "code",
   "execution_count": null,
   "id": "6132aa9a",
   "metadata": {},
   "outputs": [],
   "source": []
  }
 ],
 "metadata": {
  "kernelspec": {
   "display_name": "Python 3 (ipykernel)",
   "language": "python",
   "name": "python3"
  },
  "language_info": {
   "codemirror_mode": {
    "name": "ipython",
    "version": 3
   },
   "file_extension": ".py",
   "mimetype": "text/x-python",
   "name": "python",
   "nbconvert_exporter": "python",
   "pygments_lexer": "ipython3",
   "version": "3.11.2"
  }
 },
 "nbformat": 4,
 "nbformat_minor": 5
}
