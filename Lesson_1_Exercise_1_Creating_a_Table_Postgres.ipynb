{
 "cells": [
  {
   "cell_type": "markdown",
   "id": "005d6fd0",
   "metadata": {},
   "source": [
    "# <span style='color:MediumVioletRed'> Lesson 1 Exercise 1: Creating a Table with PostgreSQL </span>\n",
    "\n"
   ]
  },
  {
   "cell_type": "code",
   "execution_count": 39,
   "id": "5011015a",
   "metadata": {},
   "outputs": [],
   "source": [
    "# pip install psycopg2 in local environment\n",
    "# this is the most popular postgres db adapter\n",
    "# used to connect to postgresql and to perform SQL queries \n",
    "\n",
    "import psycopg2"
   ]
  },
  {
   "cell_type": "code",
   "execution_count": 41,
   "id": "19d00c8c",
   "metadata": {},
   "outputs": [],
   "source": [
    "# create a databse in postgresql using psycopg2\n",
    "\n",
    "# first, establish a connection with the local instance of postgres \n",
    "conn = psycopg2.connect(\n",
    "    database='postgres',\n",
    "    user='postgres',\n",
    "    password='postgres',\n",
    "    host='localhost',\n",
    "    port=5432\n",
    ")"
   ]
  },
  {
   "cell_type": "code",
   "execution_count": 42,
   "id": "3c33c62f",
   "metadata": {},
   "outputs": [],
   "source": [
    "# use the connection to get a cursor that can be used to execute queries\n",
    "cur = conn.cursor()"
   ]
  },
  {
   "cell_type": "code",
   "execution_count": 43,
   "id": "72299b6e",
   "metadata": {},
   "outputs": [],
   "source": [
    "# set automatic commit to be true so that each action is committed without having to call conn.commmit() after each command\n",
    "conn.set_session(autocommit=True)"
   ]
  },
  {
   "cell_type": "code",
   "execution_count": 44,
   "id": "93c11f83",
   "metadata": {},
   "outputs": [
    {
     "ename": "DuplicateDatabase",
     "evalue": "database \"udacy_test_db\" already exists\n",
     "output_type": "error",
     "traceback": [
      "\u001b[1;31m---------------------------------------------------------------------------\u001b[0m",
      "\u001b[1;31mDuplicateDatabase\u001b[0m                         Traceback (most recent call last)",
      "Cell \u001b[1;32mIn[44], line 4\u001b[0m\n\u001b[0;32m      1\u001b[0m \u001b[38;5;66;03m# create a database to work in \u001b[39;00m\n\u001b[0;32m      2\u001b[0m query \u001b[38;5;241m=\u001b[39m \u001b[38;5;124m\"\u001b[39m\u001b[38;5;124mcreate database udacy_test_db\u001b[39m\u001b[38;5;124m\"\u001b[39m\n\u001b[1;32m----> 4\u001b[0m \u001b[43mcur\u001b[49m\u001b[38;5;241;43m.\u001b[39;49m\u001b[43mexecute\u001b[49m\u001b[43m(\u001b[49m\u001b[43mquery\u001b[49m\u001b[43m)\u001b[49m\n\u001b[0;32m      6\u001b[0m \u001b[38;5;66;03m# if the database already exists, will get an error message for duplicate db\u001b[39;00m\n",
      "\u001b[1;31mDuplicateDatabase\u001b[0m: database \"udacy_test_db\" already exists\n"
     ]
    }
   ],
   "source": [
    "# create a database to work in \n",
    "query = \"create database udacy_test_db\"\n",
    "\n",
    "cur.execute(query)\n",
    "\n",
    "# if the database already exists, will get an error message for duplicate db"
   ]
  },
  {
   "cell_type": "code",
   "execution_count": 45,
   "id": "89622493",
   "metadata": {},
   "outputs": [],
   "source": [
    "# close the connection to the default database\n",
    "conn.close()\n"
   ]
  },
  {
   "cell_type": "code",
   "execution_count": 49,
   "id": "976b9beb",
   "metadata": {},
   "outputs": [],
   "source": [
    "# reconnect to the udacity database and get a new cursor and autocommit again\n",
    "conn = psycopg2.connect(\n",
    "    database='udacy_test_db',\n",
    "    user='postgres',\n",
    "    password='postgres',\n",
    "    host='localhost',\n",
    "    port=5432\n",
    ")"
   ]
  },
  {
   "cell_type": "code",
   "execution_count": 50,
   "id": "f1b7bb73",
   "metadata": {},
   "outputs": [],
   "source": [
    "cur = conn.cursor()"
   ]
  },
  {
   "cell_type": "code",
   "execution_count": 51,
   "id": "32b41790",
   "metadata": {},
   "outputs": [],
   "source": [
    "# autocommit \n",
    "conn.set_session(autocommit=True)"
   ]
  },
  {
   "cell_type": "code",
   "execution_count": 52,
   "id": "885f0468",
   "metadata": {},
   "outputs": [
    {
     "name": "stdout",
     "output_type": "stream",
     "text": [
      "('Across The Universe', 'The Beatles', 1970, 'Let It Be', False)\n",
      "('Across The Universe', 'The Beatles', 1970, 'Let It Be', False)\n",
      "('Think For Yourself', 'The Beatles', 1965, 'Rubber Soul', False)\n",
      "('Across The Universe', 'The Beatles', 1970, 'Let It Be', False)\n",
      "('Think For Yourself', 'The Beatles', 1965, 'Rubber Soul', False)\n"
     ]
    }
   ],
   "source": [
    "# test query \n",
    "test_query = \"select * from songs\"\n",
    "cur.execute(test_query)\n",
    "for row in cur:\n",
    "  print(row)"
   ]
  },
  {
   "cell_type": "code",
   "execution_count": 53,
   "id": "40a936ba",
   "metadata": {},
   "outputs": [],
   "source": [
    "# Create a Song Library that contains a list of songs, including the song name, artist name, year, album it was from, and if it was a single.\n",
    "# song_title\n",
    "# artist_name\n",
    "# year\n",
    "# album_name\n",
    "# single\n",
    "\n",
    "# query to create the table\n",
    "# CREATE TABLE table_name (\n",
    "#     column1 datatype,\n",
    "#     column2 datatype,\n",
    "#     column3 datatype,\n",
    "#    ....\n",
    "# );\n",
    "\n",
    "create_query = '''CREATE TABLE IF NOT EXISTS songs (\n",
    "                    song_title varchar,\n",
    "                    artist_name varchar,\n",
    "                    year int,\n",
    "                    album_name varchar,\n",
    "                    single boolean\n",
    "                )'''\n",
    "\n",
    "try:\n",
    "    cur.execute(create_query)\n",
    "except psycopg2.Error as e:\n",
    "    print(\"Error: Issue creating table\")\n",
    "    print(e)\n",
    "    \n"
   ]
  },
  {
   "cell_type": "code",
   "execution_count": 54,
   "id": "bbf5d3f5",
   "metadata": {},
   "outputs": [
    {
     "name": "stdout",
     "output_type": "stream",
     "text": [
      "('Across The Universe', 'The Beatles', 1970, 'Let It Be', False)\n",
      "('Across The Universe', 'The Beatles', 1970, 'Let It Be', False)\n",
      "('Think For Yourself', 'The Beatles', 1965, 'Rubber Soul', False)\n",
      "('Across The Universe', 'The Beatles', 1970, 'Let It Be', False)\n",
      "('Think For Yourself', 'The Beatles', 1965, 'Rubber Soul', False)\n",
      "(5,)\n"
     ]
    }
   ],
   "source": [
    "# check that table was created\n",
    "cur.execute(\"select * from songs\")\n",
    "for row in cur:\n",
    "    print(row)\n",
    "    \n",
    "cur.execute(\"select count(*) from songs\")\n",
    "for row in cur:\n",
    "    print(row)\n",
    "\n",
    "# SELECT *\n",
    "#   FROM information_schema.columns\n",
    "#  WHERE table_schema = 'your_schema'\n",
    "#    AND table_name   = 'your_table'"
   ]
  },
  {
   "cell_type": "code",
   "execution_count": 34,
   "id": "a76475cc",
   "metadata": {},
   "outputs": [],
   "source": [
    "# Insert the following two rows in the table\n",
    "# First Row:  \"Across The Universe\", \"The Beatles\", \"1970\", \"Let It Be\", \"False\"\n",
    "# Second Row: \"Think For Yourself\", \"The Beatles\", \"1965\", \"Rubber Soul\", \"False\"\n",
    "\n",
    "# INSERT INTO table_name (column1, column2, column3, ...)\n",
    "# VALUES (value1, value2, value3, ...);\n",
    "\n",
    "# insert first row\n",
    "insert_query = '''INSERT INTO songs (song_title, artist_name, year, album_name, single)  \n",
    "VALUES ('Across The Universe', 'The Beatles', '1970', 'Let It Be', 'False')'''\n",
    "\n",
    "try:\n",
    "    cur.execute(insert_query)\n",
    "except psycopg2.Error as e:\n",
    "    print(\"Error: Inserting Rows\")\n",
    "    print(e)\n",
    "    \n",
    "# insert second row\n",
    "insert_query = \"\"\"INSERT INTO songs (song_title, artist_name, year, album_name, single) VALUES (%s, %s, %s, %s, %s)\"\"\"\n",
    "song_info = (\"Think For Yourself\", \"The Beatles\", \"1965\", \"Rubber Soul\", \"False\")\n",
    "\n",
    "try:\n",
    "    cur.execute(insert_query, song_info)\n",
    "except psycopg2.Error as e:\n",
    "    print(\"Error: Inserting Rows\")\n",
    "    print(e)\n"
   ]
  },
  {
   "cell_type": "code",
   "execution_count": 55,
   "id": "d62c4591",
   "metadata": {},
   "outputs": [
    {
     "name": "stdout",
     "output_type": "stream",
     "text": [
      "('Across The Universe', 'The Beatles', 1970, 'Let It Be', False)\n",
      "('Across The Universe', 'The Beatles', 1970, 'Let It Be', False)\n",
      "('Think For Yourself', 'The Beatles', 1965, 'Rubber Soul', False)\n",
      "('Across The Universe', 'The Beatles', 1970, 'Let It Be', False)\n",
      "('Think For Yourself', 'The Beatles', 1965, 'Rubber Soul', False)\n"
     ]
    }
   ],
   "source": [
    "try: \n",
    "    cur.execute(\"SELECT * FROM songs;\")\n",
    "except psycopg2.Error as e: \n",
    "    print(\"Error: select *\")\n",
    "    print (e)\n",
    "\n",
    "row = cur.fetchone()\n",
    "while row:\n",
    "   print(row)\n",
    "   row = cur.fetchone()"
   ]
  },
  {
   "cell_type": "code",
   "execution_count": 56,
   "id": "c3061570",
   "metadata": {},
   "outputs": [],
   "source": [
    "# close cursor and connection\n",
    "cur.close()\n",
    "conn.close()"
   ]
  },
  {
   "cell_type": "code",
   "execution_count": null,
   "id": "7faf6af5",
   "metadata": {},
   "outputs": [],
   "source": []
  }
 ],
 "metadata": {
  "kernelspec": {
   "display_name": "Python 3 (ipykernel)",
   "language": "python",
   "name": "python3"
  },
  "language_info": {
   "codemirror_mode": {
    "name": "ipython",
    "version": 3
   },
   "file_extension": ".py",
   "mimetype": "text/x-python",
   "name": "python",
   "nbconvert_exporter": "python",
   "pygments_lexer": "ipython3",
   "version": "3.11.2"
  }
 },
 "nbformat": 4,
 "nbformat_minor": 5
}
